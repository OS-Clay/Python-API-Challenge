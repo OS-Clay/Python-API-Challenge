{
 "cells": [
  {
   "cell_type": "code",
   "execution_count": null,
   "metadata": {},
   "outputs": [],
   "source": []
  },
  {
   "cell_type": "code",
   "execution_count": 1,
   "metadata": {},
   "outputs": [],
   "source": [
    "import pandas as pd\n",
    "import matplotlib.pyplot as plt\n",
    "import numpy as np\n",
    "import requests\n",
    "import scipy.stats as st\n",
    "import time\n",
    "import json\n",
    "import os\n",
    "\n",
    "import gmaps\n",
    "\n",
    "from config import api_key\n",
    "\n",
    "from config2 import api_key as g_key\n",
    "\n",
    "\n",
    "from citipy import citipy\n",
    "\n",
    "output_data_file = \"outputcities.csv\"\n",
    "\n",
    "lat_range = (-90,90)\n",
    "\n",
    "long_range = (-180,180)\n",
    "\n",
    "lat_lngs = []\n",
    "\n",
    "cities = []\n",
    "\n",
    "lats = np.random.uniform(lat_range[0], lat_range[1], 1500)\n",
    "longs = np.random.uniform(long_range[0], long_range[1], 1500)\n",
    "\n",
    "\n",
    "ll_tup = zip(lats, longs)\n",
    "\n",
    "gen = (list(ele) for ele in ll_tup)\n",
    "\n",
    "lat_lngs = list(gen)\n",
    "\n",
    "#print(lat_lngs)\n",
    "\n",
    "\n",
    "\n",
    "for i in lat_lngs:\n",
    "    \n",
    "        city = citipy.nearest_city(i[0], i[1]).city_name\n",
    "    \n",
    "        if city not in cities:\n",
    "        \n",
    "            cities.append(city)\n",
    "            \n",
    "           \n",
    "            \n",
    "\n",
    "\n"
   ]
  },
  {
   "cell_type": "code",
   "execution_count": 2,
   "metadata": {},
   "outputs": [
    {
     "data": {
      "text/plain": [
       "624"
      ]
     },
     "execution_count": 2,
     "metadata": {},
     "output_type": "execute_result"
    }
   ],
   "source": [
    "len(cities)"
   ]
  },
  {
   "cell_type": "code",
   "execution_count": 58,
   "metadata": {},
   "outputs": [
    {
     "name": "stdout",
     "output_type": "stream",
     "text": [
      "Processingbredasdorp\n",
      "Processingclyde river\n",
      "Processingketchikan\n",
      "Processingcidreira\n",
      "Processingtiksi\n",
      "Processingmachacamarca\n",
      "No city, passing\n",
      "Processingmirnyy\n",
      "Processinggeorgetown\n",
      "Processingvostok\n",
      "No city, passing\n",
      "Processingkapaa\n",
      "Processingkodiak\n",
      "Processingporto-vecchio\n",
      "Processingsorong\n",
      "Processingrikitea\n",
      "Processingsile\n",
      "Processingyellowknife\n",
      "Processingfortuna\n",
      "Processingerzin\n",
      "Processingbluff\n",
      "Processinghilo\n",
      "Processinghusavik\n",
      "Processingkaitangata\n",
      "Processingbusselton\n",
      "Processingkaeo\n",
      "Processingmaniitsoq\n",
      "Processingnicolas de pierola\n",
      "Processinghermanus\n",
      "Processingalbany\n",
      "Processingarraial do cabo\n",
      "Processingcoaldale\n",
      "Processingbambous virieux\n",
      "Processingjamestown\n",
      "Processingmahebourg\n",
      "No city, passing\n",
      "No city, passing\n",
      "Processinghithadhoo\n",
      "Processingcoquimbo\n",
      "Processingushuaia\n",
      "Processingostrovnoy\n",
      "Processingprovideniya\n",
      "Processingkavaratti\n",
      "Processingquatre cocos\n",
      "No city, passing\n",
      "Processingdikson\n",
      "Processingqaanaaq\n",
      "Processingesperance\n",
      "Processingfelanitx\n",
      "Processingatuona\n",
      "Processingcayenne\n",
      "Processingpunta arenas\n",
      "Processingtautira\n",
      "Processingupleta\n",
      "Processingsaint-leu\n",
      "Processinggriffin\n",
      "Processingmar del plata\n",
      "Processingport elizabeth\n",
      "No city, passing\n",
      "Processingport alfred\n",
      "Processinglaguna\n",
      "No city, passing\n",
      "Processingtasiilaq\n",
      "Processingmaraa\n",
      "Processingfaya\n",
      "Processingkruisfontein\n",
      "Processingsan pedro\n",
      "Processingcarnarvon\n",
      "Processingitamaraju\n",
      "Processingchristchurch\n",
      "Processinghofn\n",
      "Processingcadillac\n",
      "Processingverkhoyansk\n",
      "Processingkysyl-syr\n",
      "Processingkharp\n",
      "Processingmataura\n",
      "Processingbatemans bay\n",
      "Processingust-uda\n",
      "Processingfalmouth\n",
      "Processingtuktoyaktuk\n",
      "Processinglongyearbyen\n",
      "No city, passing\n",
      "Processingport-gentil\n",
      "Processingstornoway\n",
      "Processingarvika\n",
      "Processingvestmanna\n",
      "Processingribeira grande\n",
      "Processinghigh level\n",
      "Processingpuerto escondido\n",
      "Processingbutaritari\n",
      "Processingpleasant hill\n",
      "Processingtorbay\n",
      "Processingpuerto ayora\n",
      "Processingjasper\n",
      "Processingpimentel\n",
      "Processinglebu\n",
      "No city, passing\n",
      "Processinggold coast\n",
      "No city, passing\n",
      "Processingsevernyy\n",
      "Processingdingle\n",
      "Processingcomodoro rivadavia\n",
      "Processingnew norfolk\n",
      "Processingbathsheba\n",
      "Processingbroome\n",
      "Processingnome\n",
      "Processingcastro\n",
      "Processingriverton\n",
      "Processinghasaki\n",
      "Processingeast london\n",
      "Processingsibolga\n",
      "Processingolga\n",
      "Processingsaint-philippe\n",
      "Processingvaini\n",
      "Processingsaldanha\n",
      "Processinghoniara\n",
      "Processingbasoko\n",
      "Processingnanortalik\n",
      "Processingabrau-dyurso\n",
      "Processingdubinino\n",
      "Processingstepnogorsk\n",
      "No city, passing\n",
      "Processingcape town\n",
      "Processinghobart\n",
      "Processingponta do sol\n",
      "Processingquesnel\n",
      "Processingitarema\n",
      "Processingfirovo\n",
      "Processingowando\n",
      "Processinglata\n",
      "Processingflinders\n",
      "Processingmartigny\n",
      "Processingbethel\n",
      "Processingkadhan\n",
      "Processingomemee\n",
      "Processingsweetwater\n",
      "Processingnotodden\n",
      "Processingsaint-francois\n",
      "Processingquelimane\n",
      "No city, passing\n",
      "Processingwilmington\n",
      "No city, passing\n",
      "Processingpandan\n",
      "Processingdamietta\n",
      "Processingkamyaran\n",
      "Processingneryungri\n",
      "Processinglavrentiya\n",
      "Processingsungairaya\n",
      "Processingnavirai\n",
      "Processingshangrao\n",
      "Processingpumiao\n",
      "Processingridgecrest\n",
      "No city, passing\n",
      "Processingavarua\n",
      "Processingdingli\n",
      "Processingsouillac\n",
      "Processingsteamboat springs\n",
      "Processingcoahuayana\n",
      "No city, passing\n",
      "Processingsalumbar\n",
      "Processingvictoria\n",
      "Processingsaskylakh\n",
      "Processingsturgeon falls\n",
      "Processingnamibe\n",
      "No city, passing\n",
      "Processinglos llanos de aridane\n",
      "Processingsuzhou\n",
      "Processingpevek\n",
      "Processingaraouane\n",
      "Processingtadine\n",
      "Processingport augusta\n",
      "Processinglompoc\n",
      "Processingabong mbang\n",
      "Processingnecochea\n",
      "No city, passing\n",
      "Processingkano\n",
      "Processinggizo\n",
      "Processinglima\n",
      "Processingokato\n",
      "Processingkyra\n",
      "Processingchuy\n",
      "Processingden helder\n",
      "Processingocos\n",
      "Processingupernavik\n",
      "Processingnarsaq\n",
      "Processingrio gallegos\n",
      "Processingodienne\n",
      "Processingvila velha\n",
      "Processingpocone\n",
      "Processingsitka\n",
      "Processingnikolskoye\n",
      "Processingasilah\n",
      "Processingaltamont\n",
      "Processingkahului\n",
      "No city, passing\n",
      "No city, passing\n",
      "No city, passing\n",
      "Processingsaint george\n",
      "Processingharrismith\n",
      "No city, passing\n",
      "Processingmecca\n",
      "Processingchapais\n",
      "Processinggat\n",
      "Processingpundaguitan\n",
      "Processingponta delgada\n",
      "Processingsolnechnyy\n",
      "Processingleningradskiy\n",
      "Processingsaint-jean-de-la-ruelle\n",
      "Processingsala\n",
      "No city, passing\n",
      "No city, passing\n",
      "Processingcap malheureux\n",
      "Processinghurghada\n",
      "Processingveraval\n",
      "Processingthompson\n",
      "Processingkhatanga\n",
      "Processingpeniche\n",
      "Processingbarrow\n",
      "Processingtarata\n",
      "Processingmaningrida\n",
      "Processinghavre-saint-pierre\n",
      "Processingsevero-kurilsk\n",
      "Processingberlevag\n",
      "Processingust-kuyga\n",
      "Processingdurusu\n",
      "Processingderzhavinsk\n",
      "Processingmiloslavskoye\n",
      "Processingnorman wells\n",
      "Processingmazamari\n",
      "Processingboa vista\n",
      "Processingcanakkale\n",
      "Processingmaldonado\n",
      "No city, passing\n",
      "Processingborzya\n",
      "Processingmahajanga\n",
      "Processingpacific grove\n",
      "Processingsan quintin\n",
      "No city, passing\n",
      "Processinghurup\n",
      "Processingbratsk\n",
      "Processinghell\n",
      "Processingsan joaquin\n",
      "Processingkostino\n",
      "Processingokhotsk\n",
      "Processingchokurdakh\n",
      "Processingrawson\n",
      "Processingchicama\n",
      "Processingpoum\n",
      "Processingandenes\n",
      "Processingkhromtau\n",
      "Processinglahstedt\n",
      "Processingjoao pessoa\n",
      "Processingjapura\n",
      "Processingtoora-khem\n",
      "Processingrundu\n",
      "Processingcollege\n",
      "Processingbikaner\n",
      "Processingpaulista\n",
      "Processingfaanui\n",
      "No city, passing\n",
      "No city, passing\n",
      "No city, passing\n",
      "No city, passing\n",
      "Processingangol\n",
      "Processinggoma\n",
      "Processingiquique\n",
      "Processingpombia\n",
      "No city, passing\n",
      "Processingkungurtug\n",
      "Processingcabo san lucas\n",
      "Processingcaravelas\n",
      "Processingsorland\n",
      "Processingkambove\n",
      "Processingzyryanka\n",
      "Processingkatsuura\n",
      "Processingyar-sale\n",
      "Processingsaint-augustin\n",
      "Processingnuuk\n",
      "Processingitum-kale\n",
      "Processingkomsomolskiy\n",
      "Processingvardo\n",
      "Processingsakakah\n",
      "Processingsernovodskoye\n",
      "Processingrocha\n",
      "Processingsanta maria\n",
      "Processingkhandyga\n",
      "Processingmorondava\n",
      "Processingmatagami\n",
      "Processingmonrovia\n",
      "Processingkavieng\n",
      "Processinggrand gaube\n",
      "Processingbowen\n",
      "No city, passing\n",
      "Processingtogur\n",
      "Processingmednogorsk\n",
      "Processingitoman\n",
      "Processingbereznik\n",
      "Processingheishan\n",
      "Processinggreen river\n",
      "Processingmarsh harbour\n",
      "Processingmaine-soroa\n",
      "Processingfairbanks\n",
      "No city, passing\n",
      "Processingmadang\n",
      "No city, passing\n",
      "Processingsao filipe\n",
      "Processingankang\n",
      "Processingpokhara\n",
      "Processingalpena\n",
      "Processingberingovskiy\n",
      "No city, passing\n",
      "Processingdasoguz\n",
      "Processingreconquista\n",
      "Processinggimli\n",
      "No city, passing\n",
      "Processingkirksville\n",
      "Processingnantucket\n",
      "No city, passing\n",
      "Processingmercedes\n",
      "No city, passing\n",
      "No city, passing\n",
      "No city, passing\n",
      "Processingaklavik\n",
      "Processingsan patricio\n",
      "Processingryotsu\n",
      "Processingpoya\n",
      "Processingwaipawa\n",
      "Processingerseke\n",
      "Processingnarodychi\n",
      "Processingsuining\n",
      "No city, passing\n",
      "Processingamazar\n",
      "Processinghami\n",
      "Processinggeraldton\n",
      "Processinglamesa\n",
      "Processingsisimiut\n",
      "Processingkalakamati\n",
      "Processingmeulaboh\n",
      "Processingancud\n",
      "Processingthai binh\n",
      "Processinghelong\n",
      "No city, passing\n",
      "Processingathabasca\n",
      "Processingmanyana\n",
      "Processingtual\n",
      "Processinggrindavik\n",
      "Processinghaimen\n",
      "Processingpisco\n",
      "Processingixtapa\n",
      "Processinghovd\n",
      "Processingmogok\n",
      "Processingrosario\n",
      "Processingwarmbad\n",
      "Processingvila franca do campo\n",
      "Processingnuevo progreso\n",
      "No city, passing\n",
      "No city, passing\n",
      "Processingbinzhou\n",
      "No city, passing\n",
      "Processingiqaluit\n",
      "Processinghobyo\n",
      "Processingairai\n",
      "Processingmuros\n",
      "Processingspringbok\n",
      "Processingcabedelo\n",
      "Processinglabuhan\n",
      "Processingtigil\n",
      "Processingilulissat\n",
      "Processingconstitucion\n",
      "Processingmahdalynivka\n",
      "Processingluderitz\n",
      "Processingvao\n",
      "Processingmorehead\n",
      "Processingrafaela\n",
      "Processingvavozh\n",
      "Processinglinda\n",
      "Processingbeidao\n",
      "Processingyele\n",
      "Processingsaint simons\n",
      "Processingbairiki\n",
      "No city, passing\n",
      "Processingusinsk\n",
      "Processingchebsara\n",
      "Processingshirokiy\n",
      "Processingzyryanskoye\n",
      "Processingsaint-pierre\n",
      "Processingnouadhibou\n",
      "Processingpedernales\n",
      "Processingwestport\n",
      "Processingwentzville\n",
      "No city, passing\n",
      "Processinghauterive\n",
      "No city, passing\n",
      "Processingkoslan\n",
      "Processingport blair\n",
      "Processingamahai\n",
      "Processingbilecik\n",
      "No city, passing\n",
      "Processingwicklow\n",
      "Processingcockburn town\n",
      "Processingulladulla\n",
      "Processinglufilufi\n",
      "Processinghambantota\n",
      "No city, passing\n",
      "Processingbanjar\n",
      "Processingcervo\n",
      "Processingvelyka pysarivka\n",
      "Processingekhabi\n",
      "Processingyorosso\n",
      "Processingrockland\n",
      "No city, passing\n",
      "Processinglorengau\n",
      "Processingmena\n",
      "No city, passing\n",
      "Processingadrar\n",
      "No city, passing\n",
      "Processingtouros\n",
      "Processingvanavara\n",
      "Processingmarawi\n",
      "Processingtoamasina\n",
      "Processingcarahue\n",
      "Processingbage\n",
      "Processinghohhot\n",
      "Processingbosobolo\n",
      "Processingkadaya\n",
      "Processingsingkawang\n",
      "Processingbilma\n",
      "No city, passing\n",
      "Processingoussouye\n",
      "No city, passing\n",
      "Processingugoofaaru\n",
      "Processingzacualpan\n",
      "Processingcodrington\n",
      "Processingavera\n",
      "Processingbelaya gora\n"
     ]
    },
    {
     "name": "stdout",
     "output_type": "stream",
     "text": [
      "Processingsan cristobal\n",
      "Processinglaval\n",
      "No city, passing\n",
      "Processingkiama\n",
      "No city, passing\n",
      "Processingbengkulu\n",
      "Processingtakoradi\n",
      "No city, passing\n",
      "Processingastoria\n",
      "Processingluz\n",
      "Processingtshikapa\n",
      "No city, passing\n",
      "Processingsan benito\n",
      "Processingqax\n",
      "Processingporto santo\n",
      "Processingsistranda\n",
      "Processinghamilton\n",
      "Processingnueva rosita\n",
      "Processingdeer lake\n",
      "Processingkalabo\n",
      "Processingomboue\n",
      "Processingjalu\n",
      "Processingaloleng\n",
      "Processingatasu\n",
      "Processingthe pas\n",
      "Processingbasqal\n",
      "Processingbanda aceh\n",
      "Processingbardiyah\n",
      "Processingpuerto carreno\n",
      "Processingvalparaiso\n",
      "Processingliberal\n",
      "Processingguerrero negro\n",
      "Processingbuala\n",
      "Processingquang ngai\n",
      "Processingstromness\n",
      "Processingtuatapere\n",
      "Processingsanta rosalia\n",
      "Processingmadanapalle\n",
      "Processingbaker city\n",
      "Processingokakarara\n",
      "Processingshu\n",
      "Processingdarnah\n",
      "Processingasau\n",
      "Processingsawakin\n",
      "Processingcamana\n",
      "Processingusilampatti\n",
      "Processinggulfport\n",
      "Processingtalas\n",
      "Processingborovoy\n",
      "Processinguglekamensk\n",
      "Processingbagamer\n",
      "Processingport lincoln\n",
      "Processingsaint paul\n",
      "No city, passing\n",
      "Processingportland\n",
      "Processingbrae\n",
      "Processinghay river\n",
      "Processingsargatskoye\n",
      "Processingnikolayevsk-na-amure\n",
      "No city, passing\n",
      "Processingchandbali\n",
      "Processingtruro\n",
      "Processingbaykit\n",
      "No city, passing\n",
      "Processingyugorsk\n",
      "Processinggobabis\n",
      "Processingfonte boa\n",
      "Processingkrasnoselkup\n",
      "Processingkangaatsiaq\n",
      "Processingmareeba\n",
      "Processingtalara\n",
      "Processingczestochowa\n",
      "Processingdanjiangkou\n",
      "Processingla ronge\n",
      "Processinggamba\n",
      "No city, passing\n",
      "Processingmarzuq\n",
      "Processingnichinan\n",
      "Processingucluelet\n",
      "Processingmanchester\n",
      "Processingdarhan\n",
      "Processingatar\n",
      "Processinghalf moon bay\n",
      "Processingcoihaique\n",
      "Processingmaceio\n",
      "Processingtalnakh\n",
      "Processingpadang\n",
      "Processinghalifax\n",
      "Processingzhanaozen\n",
      "Processingjaypur\n",
      "Processingmugur-aksy\n",
      "Processingaxim\n",
      "No city, passing\n",
      "Processingcanoinhas\n",
      "Processingaripuana\n",
      "Processingegvekinot\n",
      "Processingpakokku\n",
      "Processingkampong thum\n",
      "Processinghagen\n",
      "Processingdiffa\n",
      "Processingauki\n",
      "No city, passing\n",
      "No city, passing\n",
      "Processingsan policarpo\n",
      "Processingmiri\n",
      "No city, passing\n",
      "Processingkumbo\n",
      "Processingsovetskiy\n",
      "Processingmokhsogollokh\n",
      "Processingtura\n",
      "Processingdeputatskiy\n",
      "Processingklaksvik\n",
      "Processingvilla maria\n",
      "Processingkhash\n",
      "Processingsofiyivka\n",
      "Processingbukama\n",
      "Processingmantua\n",
      "Processingmitsamiouli\n",
      "Processingbuin\n",
      "Processingneuquen\n",
      "Processingmerzifon\n",
      "Processingsevernoye\n",
      "Processinggunjur\n",
      "Processingmuroto\n",
      "Processingcape canaveral\n",
      "No city, passing\n",
      "Processingpresidencia roque saenz pena\n",
      "Processingmalanje\n",
      "Processingkorla\n",
      "Processingjawhar\n",
      "Processingabeche\n",
      "Processingmezen\n",
      "Processingherat\n",
      "Processingbalkhash\n",
      "Processingcaohai\n",
      "Processingport hardy\n",
      "Processingbhan\n",
      "Processingyazd\n",
      "Processingsarny\n",
      "Processingstara vyzhivka\n",
      "Processingxining\n",
      "Processingwhitianga\n",
      "Processingbud\n",
      "Processingumm kaddadah\n",
      "Processingguaruja\n",
      "Processingnormandin\n",
      "Processingningxiang\n",
      "Processingpetropavlovsk-kamchatskiy\n",
      "Processingpreobrazheniye\n",
      "Processingsaint-georges\n",
      "Processingwalvis bay\n",
      "No city, passing\n",
      "Processingmicheweni\n",
      "Processingkamenka\n",
      "Processingcabinda\n",
      "Processingyulara\n",
      "Processingkpandu\n",
      "Processingnanning\n",
      "Processingjiwani\n",
      "Processingisangel\n",
      "Processingsinjai\n",
      "Processingsuba\n",
      "No city, passing\n",
      "Processingndjole\n",
      "Processingprachuap khiri khan\n",
      "No city, passing\n",
      "No city, passing\n",
      "Processingcampoverde\n",
      "Processingalofi\n",
      "Processingmorro bay\n",
      "Processingbira\n",
      "Processingparadise valley\n",
      "Processingnexo\n",
      "Processingport macquarie\n",
      "Processingsept-iles\n",
      "Processingmount isa\n",
      "Processingmehamn\n",
      "Processingnaze\n",
      "Processingkunming\n",
      "Processingdurazno\n",
      "Processingsao felix do xingu\n",
      "Processingbarcelos\n",
      "Processingkudahuvadhoo\n",
      "Processingskelleftea\n",
      "Processingturayf\n",
      "Processingneiafu\n",
      "No city, passing\n",
      "Processingtres arroyos\n",
      "Processingbershet\n"
     ]
    }
   ],
   "source": [
    "base_url = \"http://api.openweathermap.org/data/2.5/weather?q=\"\n",
    "\n",
    "\n",
    "latitude = []\n",
    "\n",
    "longitude = []\n",
    "\n",
    "temperature = []\n",
    "\n",
    "country = []\n",
    "\n",
    "humidity = []\n",
    "\n",
    "windiness = []\n",
    "\n",
    "cloudiness = []\n",
    "\n",
    "for i in cities:\n",
    "     \n",
    "        \n",
    "    target_url = base_url + i + \"&appid=\" + api_key\n",
    "        \n",
    "    try:\n",
    "       \n",
    "        \n",
    "        \n",
    "            response = requests.get(target_url).json()\n",
    "            \n",
    "            city_country = response[\"sys\"][\"country\"]\n",
    "        \n",
    "            city_temp = response[\"main\"][\"temp\"]\n",
    "            \n",
    "            city_lat = response[\"coord\"][\"lat\"]\n",
    "            \n",
    "            city_long = response[\"coord\"][\"lon\"]\n",
    "            \n",
    "            city_hum = response[\"main\"][\"humidity\"]\n",
    "            \n",
    "            city_wind = response[\"wind\"][\"speed\"]\n",
    "            \n",
    "            city_cloud = response[\"clouds\"][\"all\"]\n",
    "            \n",
    "            country.append(city_country)\n",
    "            \n",
    "            cloudiness.append(city_cloud)\n",
    "            \n",
    "            windiness.append(city_wind)\n",
    "            \n",
    "            humidity.append(city_hum)\n",
    "        \n",
    "            temperature.append(city_temp)\n",
    "            \n",
    "            longitude.append(city_long)\n",
    "            \n",
    "            latitude.append(city_lat)\n",
    "        \n",
    "        \n",
    "\n",
    "            print('Processing' + i)\n",
    "\n",
    "    except:\n",
    "    \n",
    "            print('No city, passing')\n",
    "    "
   ]
  },
  {
   "cell_type": "code",
   "execution_count": null,
   "metadata": {},
   "outputs": [],
   "source": []
  },
  {
   "cell_type": "code",
   "execution_count": 60,
   "metadata": {},
   "outputs": [],
   "source": [
    "bigframe = pd.DataFrame(list(zip(cities, country, latitude, longitude, temperature, humidity, windiness, cloudiness)), columns=['city','country','latitude','longitude','temperature','humidity','windiness','cloudiness'])"
   ]
  },
  {
   "cell_type": "code",
   "execution_count": 61,
   "metadata": {},
   "outputs": [
    {
     "data": {
      "text/html": [
       "<div>\n",
       "<style scoped>\n",
       "    .dataframe tbody tr th:only-of-type {\n",
       "        vertical-align: middle;\n",
       "    }\n",
       "\n",
       "    .dataframe tbody tr th {\n",
       "        vertical-align: top;\n",
       "    }\n",
       "\n",
       "    .dataframe thead th {\n",
       "        text-align: right;\n",
       "    }\n",
       "</style>\n",
       "<table border=\"1\" class=\"dataframe\">\n",
       "  <thead>\n",
       "    <tr style=\"text-align: right;\">\n",
       "      <th></th>\n",
       "      <th>city</th>\n",
       "      <th>country</th>\n",
       "      <th>latitude</th>\n",
       "      <th>longitude</th>\n",
       "      <th>temperature</th>\n",
       "      <th>humidity</th>\n",
       "      <th>windiness</th>\n",
       "      <th>cloudiness</th>\n",
       "    </tr>\n",
       "  </thead>\n",
       "  <tbody>\n",
       "    <tr>\n",
       "      <th>0</th>\n",
       "      <td>bredasdorp</td>\n",
       "      <td>ZA</td>\n",
       "      <td>-34.53</td>\n",
       "      <td>20.04</td>\n",
       "      <td>284.15</td>\n",
       "      <td>93</td>\n",
       "      <td>2.44</td>\n",
       "      <td>36</td>\n",
       "    </tr>\n",
       "    <tr>\n",
       "      <th>1</th>\n",
       "      <td>clyde river</td>\n",
       "      <td>CA</td>\n",
       "      <td>70.47</td>\n",
       "      <td>-68.59</td>\n",
       "      <td>276.15</td>\n",
       "      <td>93</td>\n",
       "      <td>4.60</td>\n",
       "      <td>20</td>\n",
       "    </tr>\n",
       "    <tr>\n",
       "      <th>2</th>\n",
       "      <td>ketchikan</td>\n",
       "      <td>US</td>\n",
       "      <td>55.34</td>\n",
       "      <td>-131.65</td>\n",
       "      <td>286.36</td>\n",
       "      <td>76</td>\n",
       "      <td>6.20</td>\n",
       "      <td>90</td>\n",
       "    </tr>\n",
       "    <tr>\n",
       "      <th>3</th>\n",
       "      <td>cidreira</td>\n",
       "      <td>BR</td>\n",
       "      <td>-30.18</td>\n",
       "      <td>-50.21</td>\n",
       "      <td>292.44</td>\n",
       "      <td>92</td>\n",
       "      <td>3.56</td>\n",
       "      <td>31</td>\n",
       "    </tr>\n",
       "    <tr>\n",
       "      <th>4</th>\n",
       "      <td>tiksi</td>\n",
       "      <td>RU</td>\n",
       "      <td>71.69</td>\n",
       "      <td>128.87</td>\n",
       "      <td>292.35</td>\n",
       "      <td>36</td>\n",
       "      <td>1.70</td>\n",
       "      <td>0</td>\n",
       "    </tr>\n",
       "  </tbody>\n",
       "</table>\n",
       "</div>"
      ],
      "text/plain": [
       "          city country  latitude  longitude  temperature  humidity  windiness  \\\n",
       "0   bredasdorp      ZA    -34.53      20.04       284.15        93       2.44   \n",
       "1  clyde river      CA     70.47     -68.59       276.15        93       4.60   \n",
       "2    ketchikan      US     55.34    -131.65       286.36        76       6.20   \n",
       "3     cidreira      BR    -30.18     -50.21       292.44        92       3.56   \n",
       "4        tiksi      RU     71.69     128.87       292.35        36       1.70   \n",
       "\n",
       "   cloudiness  \n",
       "0          36  \n",
       "1          20  \n",
       "2          90  \n",
       "3          31  \n",
       "4           0  "
      ]
     },
     "execution_count": 61,
     "metadata": {},
     "output_type": "execute_result"
    }
   ],
   "source": [
    "bigframe.head()"
   ]
  },
  {
   "cell_type": "code",
   "execution_count": 62,
   "metadata": {},
   "outputs": [
    {
     "data": {
      "text/html": [
       "<div>\n",
       "<style scoped>\n",
       "    .dataframe tbody tr th:only-of-type {\n",
       "        vertical-align: middle;\n",
       "    }\n",
       "\n",
       "    .dataframe tbody tr th {\n",
       "        vertical-align: top;\n",
       "    }\n",
       "\n",
       "    .dataframe thead th {\n",
       "        text-align: right;\n",
       "    }\n",
       "</style>\n",
       "<table border=\"1\" class=\"dataframe\">\n",
       "  <thead>\n",
       "    <tr style=\"text-align: right;\">\n",
       "      <th></th>\n",
       "      <th>latitude</th>\n",
       "      <th>longitude</th>\n",
       "      <th>temperature</th>\n",
       "      <th>humidity</th>\n",
       "      <th>windiness</th>\n",
       "      <th>cloudiness</th>\n",
       "    </tr>\n",
       "  </thead>\n",
       "  <tbody>\n",
       "    <tr>\n",
       "      <th>count</th>\n",
       "      <td>552.000000</td>\n",
       "      <td>552.000000</td>\n",
       "      <td>552.000000</td>\n",
       "      <td>552.000000</td>\n",
       "      <td>552.000000</td>\n",
       "      <td>552.000000</td>\n",
       "    </tr>\n",
       "    <tr>\n",
       "      <th>mean</th>\n",
       "      <td>20.984058</td>\n",
       "      <td>15.616685</td>\n",
       "      <td>292.567681</td>\n",
       "      <td>70.485507</td>\n",
       "      <td>3.571757</td>\n",
       "      <td>48.418478</td>\n",
       "    </tr>\n",
       "    <tr>\n",
       "      <th>std</th>\n",
       "      <td>33.856510</td>\n",
       "      <td>90.294685</td>\n",
       "      <td>8.024509</td>\n",
       "      <td>21.483792</td>\n",
       "      <td>2.387264</td>\n",
       "      <td>37.790048</td>\n",
       "    </tr>\n",
       "    <tr>\n",
       "      <th>min</th>\n",
       "      <td>-54.800000</td>\n",
       "      <td>-179.170000</td>\n",
       "      <td>274.980000</td>\n",
       "      <td>3.000000</td>\n",
       "      <td>0.150000</td>\n",
       "      <td>0.000000</td>\n",
       "    </tr>\n",
       "    <tr>\n",
       "      <th>25%</th>\n",
       "      <td>-7.980000</td>\n",
       "      <td>-65.167500</td>\n",
       "      <td>286.495000</td>\n",
       "      <td>59.000000</td>\n",
       "      <td>1.797500</td>\n",
       "      <td>8.000000</td>\n",
       "    </tr>\n",
       "    <tr>\n",
       "      <th>50%</th>\n",
       "      <td>28.225000</td>\n",
       "      <td>19.835000</td>\n",
       "      <td>293.150000</td>\n",
       "      <td>76.000000</td>\n",
       "      <td>3.075000</td>\n",
       "      <td>41.500000</td>\n",
       "    </tr>\n",
       "    <tr>\n",
       "      <th>75%</th>\n",
       "      <td>49.765000</td>\n",
       "      <td>95.517500</td>\n",
       "      <td>299.150000</td>\n",
       "      <td>87.000000</td>\n",
       "      <td>5.100000</td>\n",
       "      <td>88.000000</td>\n",
       "    </tr>\n",
       "    <tr>\n",
       "      <th>max</th>\n",
       "      <td>78.220000</td>\n",
       "      <td>179.320000</td>\n",
       "      <td>312.640000</td>\n",
       "      <td>100.000000</td>\n",
       "      <td>15.400000</td>\n",
       "      <td>100.000000</td>\n",
       "    </tr>\n",
       "  </tbody>\n",
       "</table>\n",
       "</div>"
      ],
      "text/plain": [
       "         latitude   longitude  temperature    humidity   windiness  cloudiness\n",
       "count  552.000000  552.000000   552.000000  552.000000  552.000000  552.000000\n",
       "mean    20.984058   15.616685   292.567681   70.485507    3.571757   48.418478\n",
       "std     33.856510   90.294685     8.024509   21.483792    2.387264   37.790048\n",
       "min    -54.800000 -179.170000   274.980000    3.000000    0.150000    0.000000\n",
       "25%     -7.980000  -65.167500   286.495000   59.000000    1.797500    8.000000\n",
       "50%     28.225000   19.835000   293.150000   76.000000    3.075000   41.500000\n",
       "75%     49.765000   95.517500   299.150000   87.000000    5.100000   88.000000\n",
       "max     78.220000  179.320000   312.640000  100.000000   15.400000  100.000000"
      ]
     },
     "execution_count": 62,
     "metadata": {},
     "output_type": "execute_result"
    }
   ],
   "source": [
    "bigframe.describe()\n",
    "\n",
    "#no humidity exceeds 100\n",
    "\n"
   ]
  },
  {
   "cell_type": "code",
   "execution_count": 7,
   "metadata": {},
   "outputs": [],
   "source": [
    "frizzyhair = bigframe.index[bigframe['humidity'] > 100].tolist()\n",
    "\n",
    "\n",
    "\n",
    "\n",
    "\n",
    "\n",
    "    \n",
    "    "
   ]
  },
  {
   "cell_type": "code",
   "execution_count": 63,
   "metadata": {},
   "outputs": [],
   "source": [
    "def tempconv(x):\n",
    "    \n",
    "    x = ((x - 273.15)* 1.8000) + 32.00\n",
    "    \n",
    "    return(x)\n",
    "\n",
    "bigframe['temperature'] = bigframe['temperature'].apply(tempconv)\n",
    "    \n",
    "    "
   ]
  },
  {
   "cell_type": "code",
   "execution_count": 64,
   "metadata": {},
   "outputs": [
    {
     "data": {
      "text/html": [
       "<div>\n",
       "<style scoped>\n",
       "    .dataframe tbody tr th:only-of-type {\n",
       "        vertical-align: middle;\n",
       "    }\n",
       "\n",
       "    .dataframe tbody tr th {\n",
       "        vertical-align: top;\n",
       "    }\n",
       "\n",
       "    .dataframe thead th {\n",
       "        text-align: right;\n",
       "    }\n",
       "</style>\n",
       "<table border=\"1\" class=\"dataframe\">\n",
       "  <thead>\n",
       "    <tr style=\"text-align: right;\">\n",
       "      <th></th>\n",
       "      <th>city</th>\n",
       "      <th>country</th>\n",
       "      <th>latitude</th>\n",
       "      <th>longitude</th>\n",
       "      <th>temperature</th>\n",
       "      <th>humidity</th>\n",
       "      <th>windiness</th>\n",
       "      <th>cloudiness</th>\n",
       "    </tr>\n",
       "  </thead>\n",
       "  <tbody>\n",
       "    <tr>\n",
       "      <th>0</th>\n",
       "      <td>bredasdorp</td>\n",
       "      <td>ZA</td>\n",
       "      <td>-34.53</td>\n",
       "      <td>20.04</td>\n",
       "      <td>51.800</td>\n",
       "      <td>93</td>\n",
       "      <td>2.44</td>\n",
       "      <td>36</td>\n",
       "    </tr>\n",
       "    <tr>\n",
       "      <th>1</th>\n",
       "      <td>clyde river</td>\n",
       "      <td>CA</td>\n",
       "      <td>70.47</td>\n",
       "      <td>-68.59</td>\n",
       "      <td>37.400</td>\n",
       "      <td>93</td>\n",
       "      <td>4.60</td>\n",
       "      <td>20</td>\n",
       "    </tr>\n",
       "    <tr>\n",
       "      <th>2</th>\n",
       "      <td>ketchikan</td>\n",
       "      <td>US</td>\n",
       "      <td>55.34</td>\n",
       "      <td>-131.65</td>\n",
       "      <td>55.778</td>\n",
       "      <td>76</td>\n",
       "      <td>6.20</td>\n",
       "      <td>90</td>\n",
       "    </tr>\n",
       "    <tr>\n",
       "      <th>3</th>\n",
       "      <td>cidreira</td>\n",
       "      <td>BR</td>\n",
       "      <td>-30.18</td>\n",
       "      <td>-50.21</td>\n",
       "      <td>66.722</td>\n",
       "      <td>92</td>\n",
       "      <td>3.56</td>\n",
       "      <td>31</td>\n",
       "    </tr>\n",
       "    <tr>\n",
       "      <th>4</th>\n",
       "      <td>tiksi</td>\n",
       "      <td>RU</td>\n",
       "      <td>71.69</td>\n",
       "      <td>128.87</td>\n",
       "      <td>66.560</td>\n",
       "      <td>36</td>\n",
       "      <td>1.70</td>\n",
       "      <td>0</td>\n",
       "    </tr>\n",
       "  </tbody>\n",
       "</table>\n",
       "</div>"
      ],
      "text/plain": [
       "          city country  latitude  longitude  temperature  humidity  windiness  \\\n",
       "0   bredasdorp      ZA    -34.53      20.04       51.800        93       2.44   \n",
       "1  clyde river      CA     70.47     -68.59       37.400        93       4.60   \n",
       "2    ketchikan      US     55.34    -131.65       55.778        76       6.20   \n",
       "3     cidreira      BR    -30.18     -50.21       66.722        92       3.56   \n",
       "4        tiksi      RU     71.69     128.87       66.560        36       1.70   \n",
       "\n",
       "   cloudiness  \n",
       "0          36  \n",
       "1          20  \n",
       "2          90  \n",
       "3          31  \n",
       "4           0  "
      ]
     },
     "execution_count": 64,
     "metadata": {},
     "output_type": "execute_result"
    }
   ],
   "source": [
    "bigframe.head()"
   ]
  },
  {
   "cell_type": "code",
   "execution_count": 65,
   "metadata": {},
   "outputs": [],
   "source": [
    "bigframe.to_csv(output_data_file)"
   ]
  },
  {
   "cell_type": "code",
   "execution_count": null,
   "metadata": {},
   "outputs": [],
   "source": []
  },
  {
   "cell_type": "code",
   "execution_count": 66,
   "metadata": {},
   "outputs": [
    {
     "data": {
      "image/png": "[encoded data removed]",
      "text/plain": [
       "<Figure size 432x288 with 1 Axes>"
      ]
     },
     "metadata": {
      "needs_background": "light"
     },
     "output_type": "display_data"
    },
    {
     "data": {
      "image/png": "[encoded data removed]",
      "text/plain": [
       "<Figure size 432x288 with 1 Axes>"
      ]
     },
     "metadata": {
      "needs_background": "light"
     },
     "output_type": "display_data"
    },
    {
     "data": {
      "image/png": "[encoded data removed]",
      "text/plain": [
       "<Figure size 432x288 with 1 Axes>"
      ]
     },
     "metadata": {
      "needs_background": "light"
     },
     "output_type": "display_data"
    },
    {
     "data": {
      "image/png": "[encoded data removed]",
      "text/plain": [
       "<Figure size 432x288 with 1 Axes>"
      ]
     },
     "metadata": {
      "needs_background": "light"
     },
     "output_type": "display_data"
    }
   ],
   "source": [
    "temp_scat = bigframe.plot.scatter('latitude', 'temperature')\n",
    "\n",
    "hum_scat = bigframe.plot.scatter('latitude', 'humidity')\n",
    "\n",
    "wind_scat = bigframe.plot.scatter('latitude', 'windiness')\n",
    "\n",
    "cloud_scat = bigframe.plot.scatter('latitude','cloudiness')\n",
    "\n"
   ]
  },
  {
   "cell_type": "code",
   "execution_count": 67,
   "metadata": {},
   "outputs": [],
   "source": [
    "tslope, tintercept, trvalue, tpvalue, tsomething = st.linregress(bigframe['latitude'],bigframe['temperature'])\n",
    "\n",
    "hslope, hintercept, hrvalue, hpvalue, hsomething = st.linregress(bigframe['latitude'],bigframe['humidity'])\n",
    "\n",
    "wslope, wintercept, wrvalue, wpvalue, wsomething = st.linregress(bigframe['latitude'],bigframe['windiness'])\n",
    "\n",
    "cslope, cintercept, crvalue, cpvalue, csomething = st.linregress(bigframe['latitude'],bigframe['cloudiness'])"
   ]
  },
  {
   "cell_type": "code",
   "execution_count": 68,
   "metadata": {},
   "outputs": [
    {
     "data": {
      "text/plain": [
       "Text(0, 0.5, 'Temp (F)')"
      ]
     },
     "execution_count": 68,
     "metadata": {},
     "output_type": "execute_result"
    },
    {
     "data": {
      "image/png": "[encoded data removed]",
      "text/plain": [
       "<Figure size 432x288 with 1 Axes>"
      ]
     },
     "metadata": {
      "needs_background": "light"
     },
     "output_type": "display_data"
    }
   ],
   "source": [
    "tlinfit = (bigframe['latitude'])*tslope + tintercept\n",
    "\n",
    "plt.plot(bigframe['latitude'], tlinfit, \"--\")\n",
    "\n",
    "plt.scatter(bigframe['latitude'], bigframe['temperature'])\n",
    "\n",
    "plt.title('City Latitude vs Temp (F) - 06/19/2020')\n",
    "\n",
    "plt.xlabel('City Latitude')\n",
    "\n",
    "plt.ylabel('Temp (F)')\n",
    "\n",
    "#this code is taking data by columns from the dataframe and plotting points using those columns \n",
    "#as x and y axis'. You can see that as points around the equator or much higher relative \n",
    "#than the points with higher absolute vlaues for latitude"
   ]
  },
  {
   "cell_type": "code",
   "execution_count": 69,
   "metadata": {},
   "outputs": [
    {
     "data": {
      "text/plain": [
       "Text(0, 0.5, 'Humidity')"
      ]
     },
     "execution_count": 69,
     "metadata": {},
     "output_type": "execute_result"
    },
    {
     "data": {
      "image/png": "[encoded data removed]",
      "text/plain": [
       "<Figure size 432x288 with 1 Axes>"
      ]
     },
     "metadata": {
      "needs_background": "light"
     },
     "output_type": "display_data"
    }
   ],
   "source": [
    "hlinfit = (bigframe['latitude'])*hslope + hintercept\n",
    "\n",
    "plt.plot(bigframe['latitude'], hlinfit, \"--\")\n",
    "\n",
    "plt.scatter(bigframe['latitude'], bigframe['humidity'])\n",
    "\n",
    "plt.title('City Latitude vs Humidity - 06/19/2020')\n",
    "\n",
    "plt.xlabel('City Latitude')\n",
    "\n",
    "plt.ylabel('Humidity')\n",
    "\n",
    "#the code here is pulling data from the humidity column and matching it against the latitude column."
   ]
  },
  {
   "cell_type": "code",
   "execution_count": 70,
   "metadata": {},
   "outputs": [
    {
     "data": {
      "text/plain": [
       "Text(0, 0.5, 'Wind Speed (mph)')"
      ]
     },
     "execution_count": 70,
     "metadata": {},
     "output_type": "execute_result"
    },
    {
     "data": {
      "image/png": "[encoded data removed]",
      "text/plain": [
       "<Figure size 432x288 with 1 Axes>"
      ]
     },
     "metadata": {
      "needs_background": "light"
     },
     "output_type": "display_data"
    }
   ],
   "source": [
    "wlinfit = (bigframe['latitude'])*wslope + wintercept\n",
    "\n",
    "plt.plot(bigframe['latitude'], wlinfit, \"--\")\n",
    "\n",
    "plt.scatter(bigframe['latitude'], bigframe['windiness'])\n",
    "\n",
    "plt.title('City Latitude vs Windiness - 06/19/2020')\n",
    "\n",
    "plt.xlabel('City Latitude')\n",
    "\n",
    "plt.ylabel('Wind Speed (mph)')\n",
    "\n",
    "#this graph, along with the other graphs in this series are pulling data from all latitudes, not just norhtern or southern hemispheres.\n",
    "\n"
   ]
  },
  {
   "cell_type": "code",
   "execution_count": 71,
   "metadata": {},
   "outputs": [
    {
     "data": {
      "text/plain": [
       "Text(0, 0.5, 'Cloudiness (%)')"
      ]
     },
     "execution_count": 71,
     "metadata": {},
     "output_type": "execute_result"
    },
    {
     "data": {
      "image/png": "[encoded data removed]",
      "text/plain": [
       "<Figure size 432x288 with 1 Axes>"
      ]
     },
     "metadata": {
      "needs_background": "light"
     },
     "output_type": "display_data"
    }
   ],
   "source": [
    "clinfit = (bigframe['latitude'])*cslope + cintercept\n",
    "\n",
    "plt.plot(bigframe['latitude'], clinfit, \"--\")\n",
    "\n",
    "plt.scatter(bigframe['latitude'], bigframe['cloudiness'])\n",
    "\n",
    "plt.title('City Latitude vs Cloudiness (%) - 06/19/2020')\n",
    "\n",
    "plt.xlabel('City Latitude')\n",
    "\n",
    "plt.ylabel('Cloudiness (%)')\n",
    "\n",
    "#doing this again, i might choose to create a function to save myself some typing."
   ]
  },
  {
   "cell_type": "code",
   "execution_count": 72,
   "metadata": {},
   "outputs": [],
   "source": [
    "n_df = pd.DataFrame(bigframe.loc[bigframe['latitude']> 0])\n",
    "\n",
    "s_df = pd.DataFrame(bigframe.loc[bigframe['latitude']<0])"
   ]
  },
  {
   "cell_type": "code",
   "execution_count": null,
   "metadata": {},
   "outputs": [],
   "source": []
  },
  {
   "cell_type": "code",
   "execution_count": 73,
   "metadata": {},
   "outputs": [],
   "source": [
    "n_tslope, n_tintercept, n_trvalue, n_tpvalue, n_tsomething = st.linregress(n_df['latitude'],n_df['temperature'])\n",
    "\n",
    "n_hslope, n_hintercept, n_hrvalue, n_hpvalue, n_hsomething = st.linregress(n_df['latitude'],n_df['humidity'])\n",
    "\n",
    "n_wslope, n_wintercept, n_wrvalue, n_wpvalue, n_wsomething = st.linregress(n_df['latitude'],n_df['windiness'])\n",
    "\n",
    "n_cslope, n_cintercept, n_crvalue, n_cpvalue, n_csomething = st.linregress(n_df['latitude'],n_df['cloudiness'])"
   ]
  },
  {
   "cell_type": "code",
   "execution_count": 74,
   "metadata": {},
   "outputs": [],
   "source": [
    "s_tslope, s_tintercept, s_trvalue, s_tpvalue, s_tsomething = st.linregress(s_df['latitude'],s_df['temperature'])\n",
    "\n",
    "s_hslope, s_hintercept, s_hrvalue, s_hpvalue, s_hsomething = st.linregress(s_df['latitude'],s_df['humidity'])\n",
    "\n",
    "s_wslope, s_wintercept, s_wrvalue, s_wpvalue, s_wsomething = st.linregress(s_df['latitude'],s_df['windiness'])\n",
    "\n",
    "s_cslope, s_cintercept, s_crvalue, s_cpvalue, s_csomething = st.linregress(s_df['latitude'],s_df['cloudiness'])"
   ]
  },
  {
   "cell_type": "code",
   "execution_count": 75,
   "metadata": {},
   "outputs": [],
   "source": [
    "def tired_of_typing(hemis_x, hemis_y, part_slope, part_intercept):\n",
    "    \n",
    "    \n",
    "    lin_of_fit = (hemis_x)* part_slope + part_intercept\n",
    "\n",
    "    plt.plot(hemis_x, lin_of_fit, \"--\")\n",
    "\n",
    "    plt.scatter(hemis_x, hemis_y)"
   ]
  },
  {
   "cell_type": "code",
   "execution_count": 76,
   "metadata": {},
   "outputs": [
    {
     "name": "stdout",
     "output_type": "stream",
     "text": [
      "r value equals -0.6794845639885108\n"
     ]
    },
    {
     "data": {
      "image/png": "[encoded data removed]",
      "text/plain": [
       "<Figure size 432x288 with 1 Axes>"
      ]
     },
     "metadata": {
      "needs_background": "light"
     },
     "output_type": "display_data"
    }
   ],
   "source": [
    "tired_of_typing(n_df['latitude'], n_df['temperature'], n_tslope, n_tintercept)\n",
    "\n",
    "plt.title('City Latitude vs Temp(F)')\n",
    "\n",
    "plt.xlabel('Latitude')\n",
    "\n",
    "plt.ylabel('Temp (F)')\n",
    "\n",
    "print(f\"r value equals {n_trvalue}\")\n",
    "\n",
    "plt.savefig('north_tempvslat.png')"
   ]
  },
  {
   "cell_type": "code",
   "execution_count": 77,
   "metadata": {},
   "outputs": [
    {
     "name": "stdout",
     "output_type": "stream",
     "text": [
      " r value is 0.771001242812385\n"
     ]
    },
    {
     "data": {
      "image/png": "[encoded data removed]",
      "text/plain": [
       "<Figure size 432x288 with 1 Axes>"
      ]
     },
     "metadata": {
      "needs_background": "light"
     },
     "output_type": "display_data"
    }
   ],
   "source": [
    "tired_of_typing(s_df['latitude'], s_df['temperature'], s_tslope, s_tintercept)\n",
    "\n",
    "plt.title('City Latitude vs Temp(F)')\n",
    "\n",
    "plt.xlabel('Latitude')\n",
    "\n",
    "plt.ylabel('Temp (F)')\n",
    "\n",
    "print(f\" r value is {s_trvalue}\")\n",
    "\n",
    "plt.savefig('south_tempvslat.png')\n",
    "\n",
    "#as you can see from the northern and southern temperature plots, temperature has a negative correlation in the \n",
    "#northern hemisphere and a positive correlation in the southern. this means that from either pole, as you approach the equator\n",
    "#you can expect a rise in temperature"
   ]
  },
  {
   "cell_type": "code",
   "execution_count": 78,
   "metadata": {},
   "outputs": [
    {
     "name": "stdout",
     "output_type": "stream",
     "text": [
      " r value is -0.030825915873022254\n",
      " Average humidity of the northern hemisphere is 67.31758530183727%\n"
     ]
    },
    {
     "data": {
      "image/png": "[encoded data removed]",
      "text/plain": [
       "<Figure size 432x288 with 1 Axes>"
      ]
     },
     "metadata": {
      "needs_background": "light"
     },
     "output_type": "display_data"
    }
   ],
   "source": [
    "tired_of_typing(n_df['latitude'],n_df['humidity'], n_hslope, n_hintercept)\n",
    "\n",
    "plt.title('City Latitude vs Humidity (%)')\n",
    "\n",
    "plt.xlabel('Latitude')\n",
    "\n",
    "plt.ylabel('Humidity (%)')\n",
    "\n",
    "nh_avg = n_df['humidity'].mean()\n",
    "\n",
    "print(f\" r value is {n_hrvalue}\")\n",
    "\n",
    "print(f\" Average humidity of the northern hemisphere is {nh_avg}%\")\n",
    "\n",
    "plt.savefig('north_humvslat.png')"
   ]
  },
  {
   "cell_type": "code",
   "execution_count": 79,
   "metadata": {},
   "outputs": [
    {
     "name": "stdout",
     "output_type": "stream",
     "text": [
      " Average humidity of the southern hemisphere is 77.54385964912281%\n",
      "r value is -0.031242344637848595\n"
     ]
    },
    {
     "data": {
      "image/png": "[encoded data removed]",
      "text/plain": [
       "<Figure size 432x288 with 1 Axes>"
      ]
     },
     "metadata": {
      "needs_background": "light"
     },
     "output_type": "display_data"
    }
   ],
   "source": [
    "tired_of_typing(s_df['latitude'],s_df['humidity'], s_hslope, s_hintercept)\n",
    "\n",
    "plt.title('City Latitude vs Humidity (%)')\n",
    "\n",
    "plt.xlabel('Latitude')\n",
    "\n",
    "plt.ylabel('Humidity (%)')\n",
    "\n",
    "sh_avg = s_df['humidity'].mean()\n",
    "\n",
    "print(f\" Average humidity of the southern hemisphere is {sh_avg}%\")\n",
    "\n",
    "print(f\"r value is {s_hrvalue}\")\n",
    "\n",
    "plt.savefig('south_humvslat.png')\n",
    "\n",
    "#these graphs go to show that there little correlation between humidity and latitude, given r values of -.033 and .08.\n",
    "#however, it might be interesting to note that the southern hemisphere seems to be ~8% more humid on average\n"
   ]
  },
  {
   "cell_type": "code",
   "execution_count": 80,
   "metadata": {},
   "outputs": [
    {
     "name": "stdout",
     "output_type": "stream",
     "text": [
      "r value is 0.08311985279156281\n"
     ]
    },
    {
     "data": {
      "image/png": "[encoded data removed]",
      "text/plain": [
       "<Figure size 432x288 with 1 Axes>"
      ]
     },
     "metadata": {
      "needs_background": "light"
     },
     "output_type": "display_data"
    }
   ],
   "source": [
    "tired_of_typing(n_df['latitude'], n_df['windiness'], n_wslope, n_wintercept)\n",
    "\n",
    "plt.title('Latitude vs Wind Speed (mph)')\n",
    "\n",
    "plt.xlabel('Latitude')\n",
    "\n",
    "plt.ylabel('Wind Speed (mph)')\n",
    "\n",
    "print(f\"r value is {n_wrvalue}\")\n",
    "\n",
    "plt.savefig('north_windvslat.png')"
   ]
  },
  {
   "cell_type": "code",
   "execution_count": 81,
   "metadata": {},
   "outputs": [
    {
     "name": "stdout",
     "output_type": "stream",
     "text": [
      " r value is -0.03567358426571273\n"
     ]
    },
    {
     "data": {
      "image/png": "[encoded data removed]",
      "text/plain": [
       "<Figure size 432x288 with 1 Axes>"
      ]
     },
     "metadata": {
      "needs_background": "light"
     },
     "output_type": "display_data"
    }
   ],
   "source": [
    "tired_of_typing(s_df['latitude'], s_df['windiness'], s_wslope, s_wintercept)\n",
    "\n",
    "plt.title('Latitude vs Wind Speed (mph)')\n",
    "\n",
    "plt.xlabel('Latitude')\n",
    "\n",
    "plt.ylabel('Wind Speed (mph)')\n",
    "\n",
    "print(f\" r value is {s_wrvalue}\")\n",
    "\n",
    "plt.savefig('south_windvslat.png')\n",
    "\n",
    "#wind does not seem to be dependent on latitude"
   ]
  },
  {
   "cell_type": "code",
   "execution_count": 82,
   "metadata": {},
   "outputs": [
    {
     "name": "stdout",
     "output_type": "stream",
     "text": [
      "r value i -0.021220109582788447\n"
     ]
    },
    {
     "data": {
      "image/png": "[encoded data removed]",
      "text/plain": [
       "<Figure size 432x288 with 1 Axes>"
      ]
     },
     "metadata": {
      "needs_background": "light"
     },
     "output_type": "display_data"
    }
   ],
   "source": [
    "tired_of_typing(n_df['latitude'], n_df['cloudiness'], n_cslope, n_cintercept)\n",
    "\n",
    "plt.title('Latitude vs Cloudiness(%)')\n",
    "\n",
    "plt.xlabel('Latitude')\n",
    "\n",
    "plt.ylabel('Cloudiness (%)')\n",
    "\n",
    "print(f\"r value i {n_crvalue}\")\n",
    "\n",
    "plt.savefig('north_cloudvslat.png')"
   ]
  },
  {
   "cell_type": "code",
   "execution_count": 83,
   "metadata": {},
   "outputs": [
    {
     "name": "stdout",
     "output_type": "stream",
     "text": [
      "r value is -0.13500152574831034\n"
     ]
    },
    {
     "data": {
      "image/png": "[encoded data removed]",
      "text/plain": [
       "<Figure size 432x288 with 1 Axes>"
      ]
     },
     "metadata": {
      "needs_background": "light"
     },
     "output_type": "display_data"
    }
   ],
   "source": [
    "tired_of_typing(s_df['latitude'], s_df['cloudiness'], s_cslope, s_cintercept)\n",
    "\n",
    "plt.title('Latitude vs Wind Speed (mph)')\n",
    "\n",
    "plt.xlabel('Latitude')\n",
    "\n",
    "plt.ylabel('Wind Speed (mph)')\n",
    "\n",
    "print(f\"r value is {s_crvalue}\")\n",
    "\n",
    "plt.savefig('south_windvslat.png')\n",
    "\n",
    "#cloudiness does not seem to be dependent on latitude"
   ]
  },
  {
   "cell_type": "code",
   "execution_count": 84,
   "metadata": {},
   "outputs": [],
   "source": [
    "gmaps.configure(api_key = g_key)\n"
   ]
  },
  {
   "cell_type": "code",
   "execution_count": 85,
   "metadata": {},
   "outputs": [
    {
     "name": "stdout",
     "output_type": "stream",
     "text": [
      "(552, 2)\n"
     ]
    }
   ],
   "source": [
    "#g_lats = bigframe[\"latitude\"]\n",
    "\n",
    "#g_longs = bigframe[\"longitude\"]\n",
    "\n",
    "#locations = [g_lats, g_longs]\n",
    "\n",
    "locations = bigframe[[\"latitude\",\"longitude\"]].to_numpy()\n",
    "\n",
    "weights = bigframe[\"humidity\"].astype(float)\n",
    "\n",
    "print(locations.shape)"
   ]
  },
  {
   "cell_type": "code",
   "execution_count": 31,
   "metadata": {},
   "outputs": [
    {
     "data": {
      "application/vnd.jupyter.widget-view+json": {
       "model_id": "cd29c0e6e38e4894865b6e1f5d6a74e8",
       "version_major": 2,
       "version_minor": 0
      },
      "text/plain": [
       "Figure(layout=FigureLayout(height='420px'))"
      ]
     },
     "metadata": {},
     "output_type": "display_data"
    }
   ],
   "source": [
    "fig = gmaps.figure()\n",
    "\n",
    "\n",
    "\n",
    "\n",
    "heat_layer = gmaps.heatmap_layer(locations, weights = weights)\n",
    "\n",
    "fig.add_layer(heat_layer)\n",
    "\n",
    "fig\n"
   ]
  },
  {
   "cell_type": "code",
   "execution_count": 86,
   "metadata": {},
   "outputs": [],
   "source": [
    "vacay_frame = pd.DataFrame(bigframe.loc[(bigframe['temperature'] > 77) & (bigframe['temperature'] <80 ) & (bigframe['humidity'] < 80)\n",
    "                                        &(bigframe['humidity'] > 50) & (bigframe['windiness'] < 10) & (bigframe['cloudiness'] < 10)])\n",
    "\n",
    "vacation_locations = pd.DataFrame(vacay_frame[['city','country','latitude','longitude','temperature']])"
   ]
  },
  {
   "cell_type": "code",
   "execution_count": 87,
   "metadata": {},
   "outputs": [
    {
     "name": "stdout",
     "output_type": "stream",
     "text": [
      "              city country  latitude  longitude  temperature\n",
      "44   belushya guba      PF     -9.80    -139.03       79.700\n",
      "94        pimentel      US     42.25     -75.83       77.918\n",
      "128         owando      US     34.23     -77.94       79.142\n",
      "410     barroualie      VN     15.12     108.80       79.448\n",
      "512       nichinan      BR    -23.99     -46.26       78.008\n"
     ]
    }
   ],
   "source": [
    "print(vacation_locations)"
   ]
  },
  {
   "cell_type": "code",
   "execution_count": 88,
   "metadata": {},
   "outputs": [
    {
     "data": {
      "text/plain": [
       "city           5\n",
       "country        5\n",
       "latitude       5\n",
       "longitude      5\n",
       "temperature    5\n",
       "humidity       5\n",
       "windiness      5\n",
       "cloudiness     5\n",
       "dtype: int64"
      ]
     },
     "execution_count": 88,
     "metadata": {},
     "output_type": "execute_result"
    }
   ],
   "source": [
    "vacay_frame.count()\n",
    "\n"
   ]
  },
  {
   "cell_type": "code",
   "execution_count": 102,
   "metadata": {},
   "outputs": [],
   "source": [
    "locations1 = vacation_locations[['latitude','longitude']].to_numpy()\n",
    "\n",
    "locations1 = list(locations)\n",
    "\n"
   ]
  },
  {
   "cell_type": "code",
   "execution_count": 100,
   "metadata": {},
   "outputs": [],
   "source": [
    "vacation_locations['hotel name'] = \"\"\n",
    "\n"
   ]
  },
  {
   "cell_type": "code",
   "execution_count": 110,
   "metadata": {},
   "outputs": [
    {
     "name": "stdout",
     "output_type": "stream",
     "text": [
      "------\n"
     ]
    }
   ],
   "source": [
    "#hotel_url = \"https://maps.googleapis.com/maps/api/place/nearbysearch/json=\"\n",
    " \n",
    "\n",
    "    \n",
    "params = {\n",
    "        \n",
    "        \n",
    "        #\"rankby\":\"distance\",\n",
    "        \"radius\": 5000,\n",
    "        \"type\": \"lodging\",\n",
    "        \"key\": g_key}\n",
    "    \n",
    "for index, row in vacation_locations.iterrows():\n",
    "        \n",
    "        one = row['latitude']\n",
    "        \n",
    "        two = row['longitude']\n",
    "        \n",
    "        params[\"location\"] = f\"{one},{two}\"\n",
    "        \n",
    "        hotel_url = \"https://maps.googleapis.com/maps/api/place/nearbysearch/json\"\n",
    "\n",
    "        hotel_response = requests.get(hotel_url, params = params)\n",
    "        \n",
    "        hotel_response = hotel_response.json()\n",
    "        \n",
    "        \n",
    "         \n",
    "        try:\n",
    "        #results = hotel_response['results']\n",
    "        \n",
    "            vacation_locations.loc[index, 'hotel name'] = hotel_response[\"results\"][0][\"name\"]\n",
    "        \n",
    "        #vacation_locations.loc[index, 'city'] = hotel_response[\"results\"][0][\"vicinity\"]\n",
    "        \n",
    "        \n",
    "        except(KeyError, IndexError):\n",
    "    \n",
    "            print('missing')\n",
    "        \n",
    "        \n",
    "print(\"------\")\n",
    "    \n",
    "    \n",
    "\n",
    "    \n"
   ]
  },
  {
   "cell_type": "code",
   "execution_count": 111,
   "metadata": {},
   "outputs": [
    {
     "data": {
      "text/html": [
       "<div>\n",
       "<style scoped>\n",
       "    .dataframe tbody tr th:only-of-type {\n",
       "        vertical-align: middle;\n",
       "    }\n",
       "\n",
       "    .dataframe tbody tr th {\n",
       "        vertical-align: top;\n",
       "    }\n",
       "\n",
       "    .dataframe thead th {\n",
       "        text-align: right;\n",
       "    }\n",
       "</style>\n",
       "<table border=\"1\" class=\"dataframe\">\n",
       "  <thead>\n",
       "    <tr style=\"text-align: right;\">\n",
       "      <th></th>\n",
       "      <th>city</th>\n",
       "      <th>country</th>\n",
       "      <th>latitude</th>\n",
       "      <th>longitude</th>\n",
       "      <th>temperature</th>\n",
       "      <th>hotel name</th>\n",
       "    </tr>\n",
       "  </thead>\n",
       "  <tbody>\n",
       "    <tr>\n",
       "      <th>44</th>\n",
       "      <td>belushya guba</td>\n",
       "      <td>PF</td>\n",
       "      <td>-9.80</td>\n",
       "      <td>-139.03</td>\n",
       "      <td>79.700</td>\n",
       "      <td>Villa Enata</td>\n",
       "    </tr>\n",
       "    <tr>\n",
       "      <th>94</th>\n",
       "      <td>pimentel</td>\n",
       "      <td>US</td>\n",
       "      <td>42.25</td>\n",
       "      <td>-75.83</td>\n",
       "      <td>77.918</td>\n",
       "      <td>Chenango Valley State Park</td>\n",
       "    </tr>\n",
       "    <tr>\n",
       "      <th>128</th>\n",
       "      <td>owando</td>\n",
       "      <td>US</td>\n",
       "      <td>34.23</td>\n",
       "      <td>-77.94</td>\n",
       "      <td>79.142</td>\n",
       "      <td>Hotel Ballast Wilmington, Tapestry Collection ...</td>\n",
       "    </tr>\n",
       "    <tr>\n",
       "      <th>410</th>\n",
       "      <td>barroualie</td>\n",
       "      <td>VN</td>\n",
       "      <td>15.12</td>\n",
       "      <td>108.80</td>\n",
       "      <td>79.448</td>\n",
       "      <td>Central Hotel</td>\n",
       "    </tr>\n",
       "    <tr>\n",
       "      <th>512</th>\n",
       "      <td>nichinan</td>\n",
       "      <td>BR</td>\n",
       "      <td>-23.99</td>\n",
       "      <td>-46.26</td>\n",
       "      <td>78.008</td>\n",
       "      <td>Charme Hotel Guarujá</td>\n",
       "    </tr>\n",
       "  </tbody>\n",
       "</table>\n",
       "</div>"
      ],
      "text/plain": [
       "              city country  latitude  longitude  temperature  \\\n",
       "44   belushya guba      PF     -9.80    -139.03       79.700   \n",
       "94        pimentel      US     42.25     -75.83       77.918   \n",
       "128         owando      US     34.23     -77.94       79.142   \n",
       "410     barroualie      VN     15.12     108.80       79.448   \n",
       "512       nichinan      BR    -23.99     -46.26       78.008   \n",
       "\n",
       "                                            hotel name  \n",
       "44                                         Villa Enata  \n",
       "94                          Chenango Valley State Park  \n",
       "128  Hotel Ballast Wilmington, Tapestry Collection ...  \n",
       "410                                      Central Hotel  \n",
       "512                               Charme Hotel Guarujá  "
      ]
     },
     "execution_count": 111,
     "metadata": {},
     "output_type": "execute_result"
    }
   ],
   "source": [
    "vacation_locations.head()"
   ]
  },
  {
   "cell_type": "code",
   "execution_count": null,
   "metadata": {},
   "outputs": [],
   "source": []
  },
  {
   "cell_type": "code",
   "execution_count": null,
   "metadata": {},
   "outputs": [],
   "source": []
  },
  {
   "cell_type": "code",
   "execution_count": null,
   "metadata": {},
   "outputs": [],
   "source": []
  },
  {
   "cell_type": "code",
   "execution_count": 112,
   "metadata": {},
   "outputs": [
    {
     "data": {
      "application/vnd.jupyter.widget-view+json": {
       "model_id": "cd29c0e6e38e4894865b6e1f5d6a74e8",
       "version_major": 2,
       "version_minor": 0
      },
      "text/plain": [
       "Figure(layout=FigureLayout(height='420px'))"
      ]
     },
     "metadata": {},
     "output_type": "display_data"
    }
   ],
   "source": [
    "info_box_template = \"\"\"\n",
    "<dl>\n",
    "<dt>Name</dt><dd>{hotel name}</dd>\n",
    "<dt>City</dt><dd>{city}</dd>\n",
    "<dt>Country</dt><dd>{country}</dd>\n",
    "</dl>\"\"\"\n",
    "\n",
    "hotel_info = [info_box_template.format(**row) for index, row in vacation_locations.iterrows()]\n",
    "\n",
    "marker_layer = gmaps.marker_layer(locations1, info_box_content=hotel_info)\n",
    "\n",
    "fig.add_layer(marker_layer)\n",
    "\n",
    "fig"
   ]
  },
  {
   "cell_type": "code",
   "execution_count": null,
   "metadata": {},
   "outputs": [],
   "source": []
  }
 ],
 "metadata": {
  "kernelspec": {
   "display_name": "Python 3",
   "language": "python",
   "name": "python3"
  },
  "language_info": {
   "codemirror_mode": {
    "name": "ipython",
    "version": 3
   },
   "file_extension": ".py",
   "mimetype": "text/x-python",
   "name": "python",
   "nbconvert_exporter": "python",
   "pygments_lexer": "ipython3",
   "version": "3.7.6"
  }
 },
 "nbformat": 4,
 "nbformat_minor": 4
}
